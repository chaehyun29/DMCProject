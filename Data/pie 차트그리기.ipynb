{
 "cells": [
  {
   "cell_type": "code",
   "execution_count": 2,
   "metadata": {
    "executionInfo": {
     "elapsed": 908,
     "status": "ok",
     "timestamp": 1657586873003,
     "user": {
      "displayName": "hoegon kim",
      "userId": "07229140023833724340"
     },
     "user_tz": -540
    },
    "id": "LTsg9CyT3zF9"
   },
   "outputs": [],
   "source": [
    "import pandas as pd\n",
    "import numpy as np\n",
    "import csv\n",
    "\n",
    "import os\n",
    "import re\n",
    "from PIL import Image\n",
    "from os import path\n",
    "from wordcloud import WordCloud\n",
    "import matplotlib.pyplot as plt\n",
    "\n",
    "crawling_data = pd.read_csv('./test-1.csv',encoding ='utf-8')"
   ]
  },
  {
   "cell_type": "code",
   "execution_count": 3,
   "metadata": {
    "colab": {
     "base_uri": "https://localhost:8080/",
     "height": 988
    },
    "executionInfo": {
     "elapsed": 299,
     "status": "ok",
     "timestamp": 1657586915384,
     "user": {
      "displayName": "hoegon kim",
      "userId": "07229140023833724340"
     },
     "user_tz": -540
    },
    "id": "q5S3jCal4O7g",
    "outputId": "fe0d42dd-b699-4077-95d4-0477b641d206"
   },
   "outputs": [
    {
     "data": {
      "text/html": [
       "<div>\n",
       "<style scoped>\n",
       "    .dataframe tbody tr th:only-of-type {\n",
       "        vertical-align: middle;\n",
       "    }\n",
       "\n",
       "    .dataframe tbody tr th {\n",
       "        vertical-align: top;\n",
       "    }\n",
       "\n",
       "    .dataframe thead th {\n",
       "        text-align: right;\n",
       "    }\n",
       "</style>\n",
       "<table border=\"1\" class=\"dataframe\">\n",
       "  <thead>\n",
       "    <tr style=\"text-align: right;\">\n",
       "      <th></th>\n",
       "      <th>Unnamed: 0</th>\n",
       "      <th>기업명</th>\n",
       "      <th>Title</th>\n",
       "      <th>Content</th>\n",
       "      <th>c_index</th>\n",
       "      <th>c_name</th>\n",
       "    </tr>\n",
       "  </thead>\n",
       "  <tbody>\n",
       "    <tr>\n",
       "      <th>0</th>\n",
       "      <td>0</td>\n",
       "      <td>(주)엠이유가스</td>\n",
       "      <td>바른미래당 [브리핑] 제207차 최고위원회의 결과브리핑</td>\n",
       "      <td>제207차 최고위원회의 결과브리핑\\n(2020.02.21.)\\n\\n\\n▣ 김정화 대...</td>\n",
       "      <td>45</td>\n",
       "      <td>도소매업</td>\n",
       "    </tr>\n",
       "    <tr>\n",
       "      <th>1</th>\n",
       "      <td>1</td>\n",
       "      <td>(주)엠이유가스</td>\n",
       "      <td>[양구]민주당 소속 김성순씨 양구군수 출마 선언</td>\n",
       "      <td>【양구】더불어민주당 김성순 (주)엠이유가스 대표이사(사진)가 양구군수 선거 출마를 ...</td>\n",
       "      <td>45</td>\n",
       "      <td>도소매업</td>\n",
       "    </tr>\n",
       "    <tr>\n",
       "      <th>2</th>\n",
       "      <td>2</td>\n",
       "      <td>(주)엠이유가스</td>\n",
       "      <td>[양구]김성순 양구군수 예비후보 바른미래당 입당여부 관심</td>\n",
       "      <td>【양구】양구군수 선거 무소속 김성순 예비후보의 바른미래당 입당 여부에 관심이 쏠리고...</td>\n",
       "      <td>45</td>\n",
       "      <td>도소매업</td>\n",
       "    </tr>\n",
       "    <tr>\n",
       "      <th>3</th>\n",
       "      <td>3</td>\n",
       "      <td>(주)엠이유가스</td>\n",
       "      <td>[양구]양구군수 선거 민주당 경선 4자 구도</td>\n",
       "      <td>김성순 대표 경쟁 가세\\n한국당도 5명 출마 관심\\n\\n【양구】국내 가스시설 관련 ...</td>\n",
       "      <td>45</td>\n",
       "      <td>도소매업</td>\n",
       "    </tr>\n",
       "    <tr>\n",
       "      <th>4</th>\n",
       "      <td>4</td>\n",
       "      <td>(주)엠이유가스</td>\n",
       "      <td>[민주당 도당 지방선거 승리 다짐]“좋은 후보·정책으로 승부”</td>\n",
       "      <td>[민주당 도당 지방선거 승리 다짐]“좋은 후보·정책으로 승부” ◇16일 더불어민주당...</td>\n",
       "      <td>45</td>\n",
       "      <td>도소매업</td>\n",
       "    </tr>\n",
       "    <tr>\n",
       "      <th>...</th>\n",
       "      <td>...</td>\n",
       "      <td>...</td>\n",
       "      <td>...</td>\n",
       "      <td>...</td>\n",
       "      <td>...</td>\n",
       "      <td>...</td>\n",
       "    </tr>\n",
       "    <tr>\n",
       "      <th>106</th>\n",
       "      <td>104</td>\n",
       "      <td>(주)인사이너리</td>\n",
       "      <td>[4월-1주] 주간 포털 브리핑</td>\n",
       "      <td>이미 발표된 포털업계의 소식들을 모아 한눈에 볼 수 있도록 매주 보여드리고자 합니다...</td>\n",
       "      <td>58</td>\n",
       "      <td>정보통신업</td>\n",
       "    </tr>\n",
       "    <tr>\n",
       "      <th>107</th>\n",
       "      <td>105</td>\n",
       "      <td>(주)인사이너리</td>\n",
       "      <td>동원육영재단, 대학생 전인교육 '자양 라이프 아카데미' 무료 개설</td>\n",
       "      <td>'자양 라이프 아카데미' 1기 대학생 모집.ⓒ동원육영재단\\n\\n동원그룹이 지난 20...</td>\n",
       "      <td>58</td>\n",
       "      <td>정보통신업</td>\n",
       "    </tr>\n",
       "    <tr>\n",
       "      <th>108</th>\n",
       "      <td>106</td>\n",
       "      <td>(주)인우코퍼레이션</td>\n",
       "      <td>[인사] 수입업협회, 새 집행부 구성</td>\n",
       "      <td>[아시아경제 김대섭 기자] 한국수입업협회(회장 이주태)는 제18대 새 집행부를 구성...</td>\n",
       "      <td>45</td>\n",
       "      <td>도소매업</td>\n",
       "    </tr>\n",
       "    <tr>\n",
       "      <th>109</th>\n",
       "      <td>107</td>\n",
       "      <td>(주)인큐블록</td>\n",
       "      <td>김익환 코인네스트 대표 \"가상통화거래소 역할은 블록체인 알리는 것\"</td>\n",
       "      <td>김익환 코인네스트 대표가 23일 서울 신사동에서 열린 '제5회 코인네스트 캠업'에서...</td>\n",
       "      <td>58</td>\n",
       "      <td>정보통신업</td>\n",
       "    </tr>\n",
       "    <tr>\n",
       "      <th>110</th>\n",
       "      <td>108</td>\n",
       "      <td>(주)인탑스위드</td>\n",
       "      <td>[이런일] 장애인 표준사업장 운영 체결</td>\n",
       "      <td>한국장애인고용공단 경북지사(지사장 이병탁)와 구미국가산업단지 내 인탑스(주) 자회사...</td>\n",
       "      <td>26</td>\n",
       "      <td>기기류 제조업</td>\n",
       "    </tr>\n",
       "  </tbody>\n",
       "</table>\n",
       "<p>111 rows × 6 columns</p>\n",
       "</div>"
      ],
      "text/plain": [
       "     Unnamed: 0         기업명                                  Title  \\\n",
       "0             0    (주)엠이유가스         바른미래당 [브리핑] 제207차 최고위원회의 결과브리핑   \n",
       "1             1    (주)엠이유가스             [양구]민주당 소속 김성순씨 양구군수 출마 선언   \n",
       "2             2    (주)엠이유가스        [양구]김성순 양구군수 예비후보 바른미래당 입당여부 관심   \n",
       "3             3    (주)엠이유가스               [양구]양구군수 선거 민주당 경선 4자 구도   \n",
       "4             4    (주)엠이유가스     [민주당 도당 지방선거 승리 다짐]“좋은 후보·정책으로 승부”   \n",
       "..          ...         ...                                    ...   \n",
       "106         104    (주)인사이너리                      [4월-1주] 주간 포털 브리핑   \n",
       "107         105    (주)인사이너리   동원육영재단, 대학생 전인교육 '자양 라이프 아카데미' 무료 개설   \n",
       "108         106  (주)인우코퍼레이션                   [인사] 수입업협회, 새 집행부 구성   \n",
       "109         107     (주)인큐블록  김익환 코인네스트 대표 \"가상통화거래소 역할은 블록체인 알리는 것\"   \n",
       "110         108    (주)인탑스위드                  [이런일] 장애인 표준사업장 운영 체결   \n",
       "\n",
       "                                               Content  c_index   c_name  \n",
       "0    제207차 최고위원회의 결과브리핑\\n(2020.02.21.)\\n\\n\\n▣ 김정화 대...       45     도소매업  \n",
       "1    【양구】더불어민주당 김성순 (주)엠이유가스 대표이사(사진)가 양구군수 선거 출마를 ...       45     도소매업  \n",
       "2    【양구】양구군수 선거 무소속 김성순 예비후보의 바른미래당 입당 여부에 관심이 쏠리고...       45     도소매업  \n",
       "3    김성순 대표 경쟁 가세\\n한국당도 5명 출마 관심\\n\\n【양구】국내 가스시설 관련 ...       45     도소매업  \n",
       "4    [민주당 도당 지방선거 승리 다짐]“좋은 후보·정책으로 승부” ◇16일 더불어민주당...       45     도소매업  \n",
       "..                                                 ...      ...      ...  \n",
       "106  이미 발표된 포털업계의 소식들을 모아 한눈에 볼 수 있도록 매주 보여드리고자 합니다...       58    정보통신업  \n",
       "107  '자양 라이프 아카데미' 1기 대학생 모집.ⓒ동원육영재단\\n\\n동원그룹이 지난 20...       58    정보통신업  \n",
       "108  [아시아경제 김대섭 기자] 한국수입업협회(회장 이주태)는 제18대 새 집행부를 구성...       45     도소매업  \n",
       "109  김익환 코인네스트 대표가 23일 서울 신사동에서 열린 '제5회 코인네스트 캠업'에서...       58    정보통신업  \n",
       "110  한국장애인고용공단 경북지사(지사장 이병탁)와 구미국가산업단지 내 인탑스(주) 자회사...       26  기기류 제조업  \n",
       "\n",
       "[111 rows x 6 columns]"
      ]
     },
     "execution_count": 3,
     "metadata": {},
     "output_type": "execute_result"
    }
   ],
   "source": [
    "crawling_data"
   ]
  },
  {
   "cell_type": "code",
   "execution_count": 4,
   "metadata": {
    "colab": {
     "base_uri": "https://localhost:8080/"
    },
    "executionInfo": {
     "elapsed": 306,
     "status": "ok",
     "timestamp": 1657586932391,
     "user": {
      "displayName": "hoegon kim",
      "userId": "07229140023833724340"
     },
     "user_tz": -540
    },
    "id": "V3s0bYgk4Gwv",
    "outputId": "4efea37a-98eb-409f-ae26-3fe2d3544c6f"
   },
   "outputs": [
    {
     "name": "stdout",
     "output_type": "stream",
     "text": [
      "0         도소매업\n",
      "1         도소매업\n",
      "2         도소매업\n",
      "3         도소매업\n",
      "4         도소매업\n",
      "        ...   \n",
      "106      정보통신업\n",
      "107      정보통신업\n",
      "108       도소매업\n",
      "109      정보통신업\n",
      "110    기기류 제조업\n",
      "Name: c_name, Length: 111, dtype: object\n"
     ]
    }
   ],
   "source": [
    "texts = crawling_data.get('c_name')\n",
    "print(texts)"
   ]
  },
  {
   "cell_type": "code",
   "execution_count": 5,
   "metadata": {
    "colab": {
     "base_uri": "https://localhost:8080/"
    },
    "executionInfo": {
     "elapsed": 292,
     "status": "ok",
     "timestamp": 1657586959228,
     "user": {
      "displayName": "hoegon kim",
      "userId": "07229140023833724340"
     },
     "user_tz": -540
    },
    "id": "eimw5CcE4Vau",
    "outputId": "f8a2448e-8c34-469b-b069-d4ba7f6315af"
   },
   "outputs": [
    {
     "name": "stdout",
     "output_type": "stream",
     "text": [
      "['도소매업', '도소매업', '도소매업', '도소매업', '도소매업', '도소매업', '도소매업', '기기류 제조업', '도소매업', '도소매업', '기기류 제조업', '정보통신업', '정보통신업', '정보통신업', '정보통신업', '정보통신업', '정보통신업', '정보통신업', '정보통신업', '도소매업', '도소매업', '도소매업', '도소매업', '도소매업', '도소매업', '정보통신업', '정보통신업', '정보통신업', '정보통신업', '정보통신업', '정보통신업', '정보통신업', '정보통신업', '정보통신업', '정보통신업', '정보통신업', '정보통신업', '건설업', '도소매업', '건설업', '도소매업', '기기류 제조업', '기기류 제조업', '정보통신업', '정보통신업', '정보통신업', '도소매업', '도소매업', '도소매업', '정보통신업', '정보통신업', '정보통신업', '정보통신업', '건설업', '건설업', '건설업', '기기류 제조업', '기기류 제조업', '기기류 제조업', '기기류 제조업', '기기류 제조업', '기기류 제조업', '건설업', '기기류 제조업', '기기류 제조업', '정보통신업', '정보통신업', '정보통신업', '정보통신업', '정보통신업', '정보통신업', '정보통신업', '도소매업', '도소매업', '정보통신업', '정보통신업', '정보통신업', '정보통신업', '건설업', '건설업', '정보통신업', '건설업', '기기류 제조업', '정보통신업', '도소매업', '도소매업', '정보통신업', '도소매업', '정보통신업', '도소매업', '도소매업', '도소매업', '도소매업', '도소매업', '도소매업', '도소매업', '도소매업', '건설업', '정보통신업', '정보통신업', '기기류 제조업', '도소매업', '도소매업', '정보통신업', '정보통신업', '정보통신업', '정보통신업', '정보통신업', '도소매업', '정보통신업', '기기류 제조업']\n",
      "<class 'list'>\n"
     ]
    }
   ],
   "source": [
    "# 판다스 데이터 리스트로 변환\n",
    "text_list=[]\n",
    "for i in texts:\n",
    "  text_list.append(i)\n",
    "\n",
    "print(text_list)\n",
    "print(type(text_list))\n"
   ]
  },
  {
   "cell_type": "code",
   "execution_count": 6,
   "metadata": {
    "executionInfo": {
     "elapsed": 294,
     "status": "ok",
     "timestamp": 1657586987487,
     "user": {
      "displayName": "hoegon kim",
      "userId": "07229140023833724340"
     },
     "user_tz": -540
    },
    "id": "vyj7VarN4b-k"
   },
   "outputs": [],
   "source": [
    "from collections import Counter\n",
    "count = Counter(text_list)"
   ]
  },
  {
   "cell_type": "code",
   "execution_count": 7,
   "metadata": {
    "colab": {
     "base_uri": "https://localhost:8080/"
    },
    "executionInfo": {
     "elapsed": 289,
     "status": "ok",
     "timestamp": 1657586994934,
     "user": {
      "displayName": "hoegon kim",
      "userId": "07229140023833724340"
     },
     "user_tz": -540
    },
    "id": "GN_DtdB24i3R",
    "outputId": "2057c81b-b9cd-4746-9bbb-bdb3c882c5e5"
   },
   "outputs": [
    {
     "data": {
      "text/plain": [
       "Counter({'도소매업': 36, '기기류 제조업': 15, '정보통신업': 50, '건설업': 10})"
      ]
     },
     "execution_count": 7,
     "metadata": {},
     "output_type": "execute_result"
    }
   ],
   "source": [
    "count"
   ]
  },
  {
   "cell_type": "code",
   "execution_count": 38,
   "metadata": {
    "colab": {
     "base_uri": "https://localhost:8080/",
     "height": 418
    },
    "executionInfo": {
     "elapsed": 275,
     "status": "error",
     "timestamp": 1657588212177,
     "user": {
      "displayName": "hoegon kim",
      "userId": "07229140023833724340"
     },
     "user_tz": -540
    },
    "id": "sC3OAUMC4koE",
    "outputId": "967fb94e-4c67-4fa6-9a5d-1e55cc05b26d"
   },
   "outputs": [
    {
     "data": {
      "image/png": "[encoded data removed]",
      "text/plain": [
       "<Figure size 432x288 with 1 Axes>"
      ]
     },
     "metadata": {},
     "output_type": "display_data"
    }
   ],
   "source": [
    "import matplotlib.pyplot as plt\n",
    "from matplotlib import font_manager, rc\n",
    "import matplotlib.font_manager as fm\n",
    "\n",
    "\n",
    "font_path = r'C:/Windows/Fonts/H2HDRM.TTF'\n",
    "font = font_manager.FontProperties(fname=font_path).get_name()\n",
    "rc('font', family=font)\n",
    "\n",
    "ratio = [10, 15, 36, 50]\n",
    "labels = ['건설업', '기기류 제조업', '도소매업', '정보통신업']\n",
    "\n",
    "plt.title(\"crawling data job\", size=10)\n",
    "plt.pie(ratio,labels=labels ,autopct='%.1f%%',startangle=10, counterclock=True,textprops={'size':10})\n",
    "plt.axis(\"equal\")\n",
    "plt.legend(loc='upper right',bbox_to_anchor=(1.15, 1.3))\n",
    "plt.show()"
   ]
  },
  {
   "cell_type": "code",
   "execution_count": null,
   "metadata": {
    "id": "DmZGZsoa48n_"
   },
   "outputs": [],
   "source": []
  }
 ],
 "metadata": {
  "colab": {
   "authorship_tag": "ABX9TyOkN90PAopEQkbBG/QYIhSI",
   "collapsed_sections": [],
   "name": "pie 차트그리기.ipynb",
   "provenance": []
  },
  "kernelspec": {
   "display_name": "Python 3 (ipykernel)",
   "language": "python",
   "name": "python3"
  },
  "language_info": {
   "codemirror_mode": {
    "name": "ipython",
    "version": 3
   },
   "file_extension": ".py",
   "mimetype": "text/x-python",
   "name": "python",
   "nbconvert_exporter": "python",
   "pygments_lexer": "ipython3",
   "version": "3.9.12"
  }
 },
 "nbformat": 4,
 "nbformat_minor": 1
}
