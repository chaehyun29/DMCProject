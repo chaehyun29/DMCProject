{
 "cells": [
  {
   "cell_type": "code",
   "execution_count": null,
   "metadata": {},
   "outputs": [],
   "source": []
  },
  {
   "cell_type": "code",
   "execution_count": 7,
   "metadata": {},
   "outputs": [
    {
     "data": {
      "text/html": [
       "<div>\n",
       "<style scoped>\n",
       "    .dataframe tbody tr th:only-of-type {\n",
       "        vertical-align: middle;\n",
       "    }\n",
       "\n",
       "    .dataframe tbody tr th {\n",
       "        vertical-align: top;\n",
       "    }\n",
       "\n",
       "    .dataframe thead th {\n",
       "        text-align: right;\n",
       "    }\n",
       "</style>\n",
       "<table border=\"1\" class=\"dataframe\">\n",
       "  <thead>\n",
       "    <tr style=\"text-align: right;\">\n",
       "      <th></th>\n",
       "      <th>review</th>\n",
       "      <th>score</th>\n",
       "    </tr>\n",
       "  </thead>\n",
       "  <tbody>\n",
       "    <tr>\n",
       "      <th>0</th>\n",
       "      <td>탑건 아이맥스 돌려주세요</td>\n",
       "      <td>1</td>\n",
       "    </tr>\n",
       "    <tr>\n",
       "      <th>1</th>\n",
       "      <td>스토리 전개가 그냥 이상하고 다 끊기는 느낌 이거 재밌다는 사람들 부럽다 온세상이 ...</td>\n",
       "      <td>1</td>\n",
       "    </tr>\n",
       "    <tr>\n",
       "      <th>2</th>\n",
       "      <td>이 영화는 이제껏 보여줬고 보여줘야했던 토르의 인생이 얼마나 굴곡지고 외롭고 가슴 ...</td>\n",
       "      <td>10</td>\n",
       "    </tr>\n",
       "    <tr>\n",
       "      <th>3</th>\n",
       "      <td>분명 라그나로크에 비하면 빈약하고 아쉬운 4편이지만 기대를 낮추고 가벼운 맘으로 봐...</td>\n",
       "      <td>8</td>\n",
       "    </tr>\n",
       "    <tr>\n",
       "      <th>4</th>\n",
       "      <td>베일 미쳤다... 배우 하나로 영화 퀄이 달라지네</td>\n",
       "      <td>10</td>\n",
       "    </tr>\n",
       "    <tr>\n",
       "      <th>5</th>\n",
       "      <td>마블은 이제 영화관에서 못보겠네 피씨도 개짜증나고 탑건이나 한번 더 볼껄 ㅋㅋ</td>\n",
       "      <td>2</td>\n",
       "    </tr>\n",
       "    <tr>\n",
       "      <th>6</th>\n",
       "      <td>코믹포인트는 있음하지만, 고의적인 게이 레즈 그놈의 미국 pc똥 때문에 영화가 맛이 갔음</td>\n",
       "      <td>4</td>\n",
       "    </tr>\n",
       "    <tr>\n",
       "      <th>7</th>\n",
       "      <td>굳이 극장가서 안 봐도 되는 디즈니 플러스 수준의 퀄리티</td>\n",
       "      <td>5</td>\n",
       "    </tr>\n",
       "    <tr>\n",
       "      <th>8</th>\n",
       "      <td>역시 크리스찬 베일의 연기는 실망시키지 않는다</td>\n",
       "      <td>10</td>\n",
       "    </tr>\n",
       "    <tr>\n",
       "      <th>9</th>\n",
       "      <td>좀 어중간합니다. 그리고 빌어먹을 PC가 영화 다망치고 있습니다.</td>\n",
       "      <td>6</td>\n",
       "    </tr>\n",
       "  </tbody>\n",
       "</table>\n",
       "</div>"
      ],
      "text/plain": [
       "                                              review score\n",
       "0                                      탑건 아이맥스 돌려주세요     1\n",
       "1  스토리 전개가 그냥 이상하고 다 끊기는 느낌 이거 재밌다는 사람들 부럽다 온세상이 ...     1\n",
       "2  이 영화는 이제껏 보여줬고 보여줘야했던 토르의 인생이 얼마나 굴곡지고 외롭고 가슴 ...    10\n",
       "3  분명 라그나로크에 비하면 빈약하고 아쉬운 4편이지만 기대를 낮추고 가벼운 맘으로 봐...     8\n",
       "4                        베일 미쳤다... 배우 하나로 영화 퀄이 달라지네    10\n",
       "5        마블은 이제 영화관에서 못보겠네 피씨도 개짜증나고 탑건이나 한번 더 볼껄 ㅋㅋ     2\n",
       "6  코믹포인트는 있음하지만, 고의적인 게이 레즈 그놈의 미국 pc똥 때문에 영화가 맛이 갔음     4\n",
       "7                    굳이 극장가서 안 봐도 되는 디즈니 플러스 수준의 퀄리티     5\n",
       "8                          역시 크리스찬 베일의 연기는 실망시키지 않는다    10\n",
       "9               좀 어중간합니다. 그리고 빌어먹을 PC가 영화 다망치고 있습니다.     6"
      ]
     },
     "execution_count": 7,
     "metadata": {},
     "output_type": "execute_result"
    }
   ],
   "source": [
    "import pandas as pd\n",
    "import requests\n",
    "from bs4 import BeautifulSoup as bs\n",
    "import re\n",
    "score = []\n",
    "review = []\n",
    "\n",
    "for i in range(1,200):\n",
    "  url = \"https://movie.naver.com/movie/bi/mi/pointWriteFormList.naver?code=187347&type=after&isActualPointWriteExecute=false&isMileageSubscriptionAlready=false&isMileageSubscriptionReject=false&page=1\"\n",
    "  html = requests.get(url)\n",
    "  soup = bs(html.text,'html.parser')\n",
    "  for i in range(10):\n",
    "    score.append(soup.select('div.star_score > em')[i].text)\n",
    "    review.append(soup.find_all('span',{'id':re.compile('_filtered_ment_\\d')})[i].text.strip())\n",
    "\n",
    "data = pd.DataFrame(list(zip(review,score)),columns =[\"review\",\"score\"])\n",
    "data.head(10)"
   ]
  },
  {
   "cell_type": "code",
   "execution_count": 9,
   "metadata": {},
   "outputs": [
    {
     "data": {
      "text/plain": [
       "10    597\n",
       "1     398\n",
       "6     199\n",
       "8     199\n",
       "5     199\n",
       "4     199\n",
       "2     199\n",
       "Name: score, dtype: int64"
      ]
     },
     "execution_count": 9,
     "metadata": {},
     "output_type": "execute_result"
    }
   ],
   "source": [
    "data['score'].value_counts()"
   ]
  },
  {
   "cell_type": "markdown",
   "metadata": {},
   "source": [
    "감정분석\n",
    "\n",
    "- 감정분석은 텍스트에 등장하는 단어들을 통해 어떤 감정이 드러나는지 분석하는기법\n",
    "- 감정분석은 오피니언마이닝으로도 불리며, 텍스트에 담긴 의견,태도 등을 알아보는데 유용한 기법\n",
    "- 감정 분석을 하기 위해선 미리 정리된 감정 어휘 사전이 필요\n",
    "- 감정 어휘 사전에 포함된 어휘가 텍스트에 얼마나 분포하는지에 따라 해당 텍스트의 감정이 좌우\n",
    "- 토픽 모델링이 텍스트의 주제를 찾아낸다면, 감정 분석은 텍스트의 의견을 찾아냄\n",
    "- 텍스트는 주제(토픽)와 의견(감정)의 결합으로 이루어졌다고 볼수 있음\n",
    "\n",
    "\n",
    "\n"
   ]
  },
  {
   "cell_type": "code",
   "execution_count": null,
   "metadata": {},
   "outputs": [],
   "source": []
  }
 ],
 "metadata": {
  "kernelspec": {
   "display_name": "Python 3",
   "language": "python",
   "name": "python3"
  },
  "language_info": {
   "codemirror_mode": {
    "name": "ipython",
    "version": 3
   },
   "file_extension": ".py",
   "mimetype": "text/x-python",
   "name": "python",
   "nbconvert_exporter": "python",
   "pygments_lexer": "ipython3",
   "version": "3.8.3"
  }
 },
 "nbformat": 4,
 "nbformat_minor": 4
}
