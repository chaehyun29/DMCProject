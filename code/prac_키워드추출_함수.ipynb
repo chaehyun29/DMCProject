{
  "nbformat": 4,
  "nbformat_minor": 0,
  "metadata": {
    "colab": {
      "name": "prac_키워드추출_함수",
      "provenance": [],
      "collapsed_sections": []
    },
    "kernelspec": {
      "name": "python3",
      "display_name": "Python 3"
    },
    "language_info": {
      "name": "python"
    }
  },
  "cells": [
    {
      "cell_type": "code",
      "source": [
        "!pip install sentence_transformers\n",
        "!pip install konlpy"
      ],
      "metadata": {
        "id": "9VjDenXDlp-e"
      },
      "execution_count": null,
      "outputs": []
    },
    {
      "cell_type": "code",
      "execution_count": null,
      "metadata": {
        "id": "P2-EFCRci8dD"
      },
      "outputs": [],
      "source": [
        "import numpy as np\n",
        "import itertools\n",
        "\n",
        "from konlpy.tag import Okt\n",
        "from sklearn.feature_extraction.text import CountVectorizer\n",
        "from sklearn.metrics.pairwise import cosine_similarity\n",
        "from sentence_transformers import SentenceTransformer"
      ]
    },
    {
      "cell_type": "code",
      "source": [
        "doc = \"\"\"애플이 정부의 지원을 받는 해킹에서 저명 인사를 보호하기 위해 올가을 아이폰과 아이패드, 맥 컴퓨터 등에 '록다운 모드'를 도입한다고 밝혔다고 경제매체 CNBC가 6일(현지시간) 보도했다.\n",
        "록다운 모드가 되면 아이폰에서 일부 기능이 꺼져 해커가 접근하거나 해킹할 수 있는 기능이 크게 줄면서 아이폰이 스파이웨어에 덜 취약해진다.\n",
        "구체적으로는 아이메시지의 미리 보기 기능, 애플의 웹브라우저인 사파리의 자바스크립트 제한, 신규 설정 프로필 설치 차단, 유선 연결 차단, 화상통화인 페이스타임 등 수신형 서비스 요청 차단 등이다.\n",
        "애플은 앞서 작년 9월 아이폰과 맥 컴퓨터 등에 중대한 보안 취약점이 있다며 긴급 소프트웨어 업데이트를 내놓은 바 있다.\n",
        "이스라엘의 보안기업 NSO그룹이 만든 스파이웨어 '페가수스'를 이용하면 해커들이 클릭 한번 없이도 애플 기기를 감염시켜 카메라나 마이크를 켜고 검색 기록, 문자 메시지나 이메일 내용 등이 노출될 수 있다는 이유에서였다.\n",
        "페가수스 같은 고도의 스파이웨어는 가격이 수천억원에 달해 평범한 해커가 아닌 정부나 경찰 기관 등이 주요 고객이다.\n",
        "애플은 이 사건 뒤 미국 의회와 각국 정부에서 이 문제를 해결하라는 압력을 받아왔다.\n",
        "록다운 모드는 국가의 지원을 받는 해커의 표적이 될 수 있어 극도로 고도의 보안 수준이 요구되는 소수의 이용자를 위한 것이다. 여기에는 고위 정치인이나 언론인, 인권 활동가, 기업 임원 등이 포함된다.\n",
        "애플은 \"대다수 이용자는 고도의 사이버 공격의 희생자가 될 일이 결코 없겠지만 희생자가 될 수 있는 소수의 사람을 보호하기 위해 쉬지 않고 일하겠다\"고 밝혔다.\n",
        "애플은 록다운 모드에 혹시 있을지 모를 보안상 허점을 발견하는 사람에게 최고 200만달러(약 26억원)를 지급하겠다며 '현상금'까지 내걸었다.\"\"\""
      ],
      "metadata": {
        "id": "YfR7ul7RloQA"
      },
      "execution_count": null,
      "outputs": []
    },
    {
      "cell_type": "code",
      "source": [
        "def candidates_fn(doc, n_gram_range):\n",
        "  okt = Okt()\n",
        "\n",
        "  tokenized_doc = okt.pos(doc)\n",
        "  tokenized_nouns = ' '.join([word[0] for word in tokenized_doc if word[1] == 'Noun'])\n",
        "\n",
        "  count = CountVectorizer(ngram_range=n_gram_range).fit([tokenized_nouns])\n",
        "  candidates = count.get_feature_names_out()\n",
        "\n",
        "  return candidates"
      ],
      "metadata": {
        "id": "MAMeB2K_0vdJ"
      },
      "execution_count": null,
      "outputs": []
    },
    {
      "cell_type": "code",
      "source": [
        "def embedding_fn(doc, candidates):\n",
        "  #이제 문서와 문서로부터 추출한 키워드들을 SBERT를 통해서 수치화한다\n",
        "  model = SentenceTransformer('sentence-transformers/xlm-r-100langs-bert-base-nli-stsb-mean-tokens')\n",
        "\n",
        "  doc_embedding = model.encode([doc])\n",
        "  candidate_embeddings = model.encode(candidates)\n",
        "\n",
        "  return (doc_embedding, candidate_embeddings)"
      ],
      "metadata": {
        "id": "zSiu3BefyWtT"
      },
      "execution_count": null,
      "outputs": []
    },
    {
      "cell_type": "code",
      "source": [
        "def keywords_extract(doc_embedding, candidate_embeddings, candidates, top_n):\n",
        "  distances = cosine_similarity(doc_embedding, candidate_embeddings)\n",
        "  keywords = [candidates[index] for index in distances.argsort()[0][-top_n:]]\n",
        "\n",
        "  return keywords"
      ],
      "metadata": {
        "id": "bTqeq8nMxXff"
      },
      "execution_count": null,
      "outputs": []
    },
    {
      "cell_type": "code",
      "source": [
        "def max_sum_sim(doc_embedding, candidate_embeddings, candidates, top_n, nr_candidates):\n",
        "  #문서와 각 키워드들 간의 유사도\n",
        "  distances = cosine_similarity(doc_embedding, candidate_embeddings)\n",
        "  #각 키워드들 간의 유사도\n",
        "  distances_candidates = cosine_similarity(candidate_embeddings, candidate_embeddings)\n",
        "  #코사인 유사도에 기반하여 키워드들 중 상위 top_n개의 단어를 pick\n",
        "  words_idx = list(distances.argsort()[0][-nr_candidates:])\n",
        "  words_vals = [candidates[index] for index in words_idx]\n",
        "  distances_candidates = distances_candidates[np.ix_(words_idx, words_idx)]\n",
        "\n",
        "  #각 키워드들 중에서 가장 덜 유사한 키워드들간의 조합을 계산\n",
        "  min_sim = np.inf\n",
        "  candidate = None\n",
        "  for combination in itertools.combinations(range(len(words_idx)), top_n):\n",
        "    sim = sum([distances_candidates[i][j] for i in combination for j in combination if i != j])\n",
        "    if sim < min_sim:\n",
        "      candidate = combination\n",
        "      min_sim = sim\n",
        "\n",
        "  return [words_vals[idx] for idx in candidate]"
      ],
      "metadata": {
        "id": "5Kjmw5jRqcde"
      },
      "execution_count": null,
      "outputs": []
    },
    {
      "cell_type": "code",
      "source": [
        "def mmr(doc_embedding, candidate_embeddings, words, top_n, diversity):\n",
        "  #문서와 각 키워드들 간의 유사도가 적힌 리스트\n",
        "  word_doc_similarity = cosine_similarity(candidate_embeddings, doc_embedding)\n",
        "  #각 키워드들 간의 유사도\n",
        "  word_similarity = cosine_similarity(candidate_embeddings, candidate_embeddings)\n",
        "  #문서와 가장 높은 유사도를 가진 키워드의 인덱스 추출\n",
        "  keywords_idx = [np.argmax(word_doc_similarity)]\n",
        "  #가장 높은 유사도를 가진 키워드의 인덱스를 제외한 문서의 인덱스들\n",
        "  candidates_idx = [i for i in range(len(words)) if i != keywords_idx[0]]\n",
        "  #최고의 키워드는 이미 추출. top_n-1번만큼 아래를 반복\n",
        "  for _ in range(top_n-1):\n",
        "    candidate_similarities = word_doc_similarity[candidates_idx, :]\n",
        "    target_similarities = np.max(word_similarity[candidates_idx][:/, keywords_idx], axis=1)\n",
        "\n",
        "    #MMR 계산\n",
        "    mmr = (1-diversity)*candidate_similarities - diversity*target_similarities.reshape(-1,1)\n",
        "    mmr_idx = candidates_idx[np.argmax(mmr)]\n",
        "\n",
        "    #keywords & candidates 업데이트\n",
        "    keywords_idx.append(mmr_idx)\n",
        "    candidates_idx.remove(mmr_idx)\n",
        "\n",
        "  return [words[idx] for idx in keywords_idx]"
      ],
      "metadata": {
        "id": "nzugxPEAtpPB"
      },
      "execution_count": null,
      "outputs": []
    },
    {
      "cell_type": "code",
      "source": [
        "candidates = candidates_fn(doc, (2,3))"
      ],
      "metadata": {
        "id": "AbAxcC871JBe"
      },
      "execution_count": null,
      "outputs": []
    },
    {
      "cell_type": "code",
      "source": [
        "doc_embedding, candidate_embeddings = embedding_fn(doc, candidates)"
      ],
      "metadata": {
        "id": "JTQ4j0lr0YdJ"
      },
      "execution_count": null,
      "outputs": []
    },
    {
      "cell_type": "code",
      "source": [
        "keywords = keywords_extract(doc_embedding, candidate_embeddings, candidates, 5)\n",
        "keywords"
      ],
      "metadata": {
        "colab": {
          "base_uri": "https://localhost:8080/"
        },
        "id": "63b4XZaNz1kn",
        "outputId": "f26a835e-036b-435b-fff1-1af05d3795d9"
      },
      "execution_count": null,
      "outputs": [
        {
          "output_type": "execute_result",
          "data": {
            "text/plain": [
              "['애플 웹브라우저', '보호 위해 애플', '애플 정부 지원', '아이폰 스파이웨어 취약', '아이폰 컴퓨터 보안']"
            ]
          },
          "metadata": {},
          "execution_count": 19
        }
      ]
    },
    {
      "cell_type": "code",
      "source": [
        "mss_keywords = max_sum_sim(doc_embedding, candidate_embeddings, candidates, top_n=5, nr_candidates=20) #높으면 더 다양\n",
        "mss_keywords"
      ],
      "metadata": {
        "colab": {
          "base_uri": "https://localhost:8080/"
        },
        "id": "UtmgjvZm1Uwc",
        "outputId": "22a4bcb1-cdbb-47a7-a19b-0a4ee8ffebdc"
      },
      "execution_count": null,
      "outputs": [
        {
          "output_type": "execute_result",
          "data": {
            "text/plain": [
              "['아이폰 아이패드 컴퓨터', '해커 정부 경찰', '컴퓨터 보안 취약점', '애플 앞서 작년', '보호 위해 애플']"
            ]
          },
          "metadata": {},
          "execution_count": 23
        }
      ]
    },
    {
      "cell_type": "code",
      "source": [
        "mmr_keywords = mmr(doc_embedding, candidate_embeddings, candidates, top_n=5, diversity=0.7)  #높으면 더 다양\n",
        "mmr_keywords"
      ],
      "metadata": {
        "colab": {
          "base_uri": "https://localhost:8080/"
        },
        "id": "RNTwhkcV1Yxk",
        "outputId": "4feb33bf-5cbb-4076-b9fa-9af5476be4aa"
      },
      "execution_count": null,
      "outputs": [
        {
          "output_type": "execute_result",
          "data": {
            "text/plain": [
              "['아이폰 컴퓨터 보안', '각국 정부 문제', '정치인 언론인 인권', '기기 감염', '기업 임원']"
            ]
          },
          "metadata": {},
          "execution_count": 24
        }
      ]
    }
  ]
}