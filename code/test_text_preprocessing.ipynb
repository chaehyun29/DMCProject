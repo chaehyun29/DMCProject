{
  "nbformat": 4,
  "nbformat_minor": 0,
  "metadata": {
    "colab": {
      "name": "test_text_preprocessing",
      "provenance": [],
      "collapsed_sections": []
    },
    "kernelspec": {
      "name": "python3",
      "display_name": "Python 3"
    },
    "language_info": {
      "name": "python"
    }
  },
  "cells": [
    {
      "cell_type": "markdown",
      "source": [
        "# 테스트 데이터 로드"
      ],
      "metadata": {
        "id": "xQ1pa_6B8qGq"
      }
    },
    {
      "cell_type": "code",
      "execution_count": 93,
      "metadata": {
        "colab": {
          "base_uri": "https://localhost:8080/",
          "height": 337
        },
        "id": "t7iUQQ1a71cq",
        "outputId": "fcf72212-a09d-46e8-94ac-dcf81303992b"
      },
      "outputs": [
        {
          "output_type": "execute_result",
          "data": {
            "text/plain": [
              "                   Date                                      Title  \\\n",
              "0   2005.06.27. 오후 3:52      [스폰서 섹션] (주)넷비젼텔레콤..인터넷장비 기술 '첨단화' 주도   \n",
              "1  2015.09.22. 오전 10:16              “중동 순방 동행, 해외 진출 물꼬가 확 터졌습니다”   \n",
              "2   2021.09.30. 오전 9:10       [특징주] 디아이티, 삼성디스플레이와 68억 상당 공급계약에 강세   \n",
              "3   2021.07.12. 오전 9:18  [특징주] 디아이티, K배터리 수혜주 부각에 19%↑… 홈페이지 서버 다운   \n",
              "4   2021.04.14. 오후 2:07     [특징주] 디아이티, SK하이닉스 '레이저 어닐링' 장비 공급에 강세   \n",
              "\n",
              "                                             Content  \\\n",
              "0  < 이 기사는 기획 PR 기사 입니다. >\\n\\n전세계를 아우르는 인터넷장비의 '글...   \n",
              "1  박근혜 대통령의 정상외교 특징은 경제사절단에 중소기업을 대거 포함시키고, 이들의 해...   \n",
              "2  디아이티가 삼성디스플레이와 68억원 상당의 공급계약을 체결하면서 장 초반 강세다.\\...   \n",
              "3  디아이티가 K배터리 전략 수혜주로 부각되면서 상승세다. \\n\\n9시 8분 디아이티는...   \n",
              "4  디아이티의 주가가 강세다.\\n\\n14일 오후 2시2분 기준 디아이티는 전 거래일 대...   \n",
              "\n",
              "                                                 URL  \n",
              "0  https://n.news.naver.com/mnews/article/015/000...  \n",
              "1  https://n.news.naver.com/mnews/article/298/000...  \n",
              "2  https://n.news.naver.com/mnews/article/031/000...  \n",
              "3  https://n.news.naver.com/mnews/article/417/000...  \n",
              "4  https://n.news.naver.com/mnews/article/417/000...  "
            ],
            "text/html": [
              "\n",
              "  <div id=\"df-063d2439-81db-45ff-a3f7-8a75501d962f\">\n",
              "    <div class=\"colab-df-container\">\n",
              "      <div>\n",
              "<style scoped>\n",
              "    .dataframe tbody tr th:only-of-type {\n",
              "        vertical-align: middle;\n",
              "    }\n",
              "\n",
              "    .dataframe tbody tr th {\n",
              "        vertical-align: top;\n",
              "    }\n",
              "\n",
              "    .dataframe thead th {\n",
              "        text-align: right;\n",
              "    }\n",
              "</style>\n",
              "<table border=\"1\" class=\"dataframe\">\n",
              "  <thead>\n",
              "    <tr style=\"text-align: right;\">\n",
              "      <th></th>\n",
              "      <th>Date</th>\n",
              "      <th>Title</th>\n",
              "      <th>Content</th>\n",
              "      <th>URL</th>\n",
              "    </tr>\n",
              "  </thead>\n",
              "  <tbody>\n",
              "    <tr>\n",
              "      <th>0</th>\n",
              "      <td>2005.06.27. 오후 3:52</td>\n",
              "      <td>[스폰서 섹션] (주)넷비젼텔레콤..인터넷장비 기술 '첨단화' 주도</td>\n",
              "      <td>&lt; 이 기사는 기획 PR 기사 입니다. &gt;\\n\\n전세계를 아우르는 인터넷장비의 '글...</td>\n",
              "      <td>https://n.news.naver.com/mnews/article/015/000...</td>\n",
              "    </tr>\n",
              "    <tr>\n",
              "      <th>1</th>\n",
              "      <td>2015.09.22. 오전 10:16</td>\n",
              "      <td>“중동 순방 동행, 해외 진출 물꼬가 확 터졌습니다”</td>\n",
              "      <td>박근혜 대통령의 정상외교 특징은 경제사절단에 중소기업을 대거 포함시키고, 이들의 해...</td>\n",
              "      <td>https://n.news.naver.com/mnews/article/298/000...</td>\n",
              "    </tr>\n",
              "    <tr>\n",
              "      <th>2</th>\n",
              "      <td>2021.09.30. 오전 9:10</td>\n",
              "      <td>[특징주] 디아이티, 삼성디스플레이와 68억 상당 공급계약에 강세</td>\n",
              "      <td>디아이티가 삼성디스플레이와 68억원 상당의 공급계약을 체결하면서 장 초반 강세다.\\...</td>\n",
              "      <td>https://n.news.naver.com/mnews/article/031/000...</td>\n",
              "    </tr>\n",
              "    <tr>\n",
              "      <th>3</th>\n",
              "      <td>2021.07.12. 오전 9:18</td>\n",
              "      <td>[특징주] 디아이티, K배터리 수혜주 부각에 19%↑… 홈페이지 서버 다운</td>\n",
              "      <td>디아이티가 K배터리 전략 수혜주로 부각되면서 상승세다. \\n\\n9시 8분 디아이티는...</td>\n",
              "      <td>https://n.news.naver.com/mnews/article/417/000...</td>\n",
              "    </tr>\n",
              "    <tr>\n",
              "      <th>4</th>\n",
              "      <td>2021.04.14. 오후 2:07</td>\n",
              "      <td>[특징주] 디아이티, SK하이닉스 '레이저 어닐링' 장비 공급에 강세</td>\n",
              "      <td>디아이티의 주가가 강세다.\\n\\n14일 오후 2시2분 기준 디아이티는 전 거래일 대...</td>\n",
              "      <td>https://n.news.naver.com/mnews/article/417/000...</td>\n",
              "    </tr>\n",
              "  </tbody>\n",
              "</table>\n",
              "</div>\n",
              "      <button class=\"colab-df-convert\" onclick=\"convertToInteractive('df-063d2439-81db-45ff-a3f7-8a75501d962f')\"\n",
              "              title=\"Convert this dataframe to an interactive table.\"\n",
              "              style=\"display:none;\">\n",
              "        \n",
              "  <svg xmlns=\"http://www.w3.org/2000/svg\" height=\"24px\"viewBox=\"0 0 24 24\"\n",
              "       width=\"24px\">\n",
              "    <path d=\"M0 0h24v24H0V0z\" fill=\"none\"/>\n",
              "    <path d=\"M18.56 5.44l.94 2.06.94-2.06 2.06-.94-2.06-.94-.94-2.06-.94 2.06-2.06.94zm-11 1L8.5 8.5l.94-2.06 2.06-.94-2.06-.94L8.5 2.5l-.94 2.06-2.06.94zm10 10l.94 2.06.94-2.06 2.06-.94-2.06-.94-.94-2.06-.94 2.06-2.06.94z\"/><path d=\"M17.41 7.96l-1.37-1.37c-.4-.4-.92-.59-1.43-.59-.52 0-1.04.2-1.43.59L10.3 9.45l-7.72 7.72c-.78.78-.78 2.05 0 2.83L4 21.41c.39.39.9.59 1.41.59.51 0 1.02-.2 1.41-.59l7.78-7.78 2.81-2.81c.8-.78.8-2.07 0-2.86zM5.41 20L4 18.59l7.72-7.72 1.47 1.35L5.41 20z\"/>\n",
              "  </svg>\n",
              "      </button>\n",
              "      \n",
              "  <style>\n",
              "    .colab-df-container {\n",
              "      display:flex;\n",
              "      flex-wrap:wrap;\n",
              "      gap: 12px;\n",
              "    }\n",
              "\n",
              "    .colab-df-convert {\n",
              "      background-color: #E8F0FE;\n",
              "      border: none;\n",
              "      border-radius: 50%;\n",
              "      cursor: pointer;\n",
              "      display: none;\n",
              "      fill: #1967D2;\n",
              "      height: 32px;\n",
              "      padding: 0 0 0 0;\n",
              "      width: 32px;\n",
              "    }\n",
              "\n",
              "    .colab-df-convert:hover {\n",
              "      background-color: #E2EBFA;\n",
              "      box-shadow: 0px 1px 2px rgba(60, 64, 67, 0.3), 0px 1px 3px 1px rgba(60, 64, 67, 0.15);\n",
              "      fill: #174EA6;\n",
              "    }\n",
              "\n",
              "    [theme=dark] .colab-df-convert {\n",
              "      background-color: #3B4455;\n",
              "      fill: #D2E3FC;\n",
              "    }\n",
              "\n",
              "    [theme=dark] .colab-df-convert:hover {\n",
              "      background-color: #434B5C;\n",
              "      box-shadow: 0px 1px 3px 1px rgba(0, 0, 0, 0.15);\n",
              "      filter: drop-shadow(0px 1px 2px rgba(0, 0, 0, 0.3));\n",
              "      fill: #FFFFFF;\n",
              "    }\n",
              "  </style>\n",
              "\n",
              "      <script>\n",
              "        const buttonEl =\n",
              "          document.querySelector('#df-063d2439-81db-45ff-a3f7-8a75501d962f button.colab-df-convert');\n",
              "        buttonEl.style.display =\n",
              "          google.colab.kernel.accessAllowed ? 'block' : 'none';\n",
              "\n",
              "        async function convertToInteractive(key) {\n",
              "          const element = document.querySelector('#df-063d2439-81db-45ff-a3f7-8a75501d962f');\n",
              "          const dataTable =\n",
              "            await google.colab.kernel.invokeFunction('convertToInteractive',\n",
              "                                                     [key], {});\n",
              "          if (!dataTable) return;\n",
              "\n",
              "          const docLinkHtml = 'Like what you see? Visit the ' +\n",
              "            '<a target=\"_blank\" href=https://colab.research.google.com/notebooks/data_table.ipynb>data table notebook</a>'\n",
              "            + ' to learn more about interactive tables.';\n",
              "          element.innerHTML = '';\n",
              "          dataTable['output_type'] = 'display_data';\n",
              "          await google.colab.output.renderOutput(dataTable, element);\n",
              "          const docLink = document.createElement('div');\n",
              "          docLink.innerHTML = docLinkHtml;\n",
              "          element.appendChild(docLink);\n",
              "        }\n",
              "      </script>\n",
              "    </div>\n",
              "  </div>\n",
              "  "
            ]
          },
          "metadata": {},
          "execution_count": 93
        }
      ],
      "source": [
        "import pandas as pd\n",
        "\n",
        "data = pd.read_csv('test_data.csv')\n",
        "data.head()"
      ]
    },
    {
      "cell_type": "code",
      "source": [
        "data = data[['Title', 'Content']]"
      ],
      "metadata": {
        "id": "6vS9HB1-8CBK"
      },
      "execution_count": 94,
      "outputs": []
    },
    {
      "cell_type": "code",
      "source": [
        "data.columns = ['Summary', 'Text']\n",
        "data"
      ],
      "metadata": {
        "colab": {
          "base_uri": "https://localhost:8080/",
          "height": 645
        },
        "id": "30grZ8wO8HZ9",
        "outputId": "3526df84-2df0-4165-d5ad-b2795f358f79"
      },
      "execution_count": 95,
      "outputs": [
        {
          "output_type": "execute_result",
          "data": {
            "text/plain": [
              "                                      Summary  \\\n",
              "0       [스폰서 섹션] (주)넷비젼텔레콤..인터넷장비 기술 '첨단화' 주도   \n",
              "1               “중동 순방 동행, 해외 진출 물꼬가 확 터졌습니다”   \n",
              "2        [특징주] 디아이티, 삼성디스플레이와 68억 상당 공급계약에 강세   \n",
              "3   [특징주] 디아이티, K배터리 수혜주 부각에 19%↑… 홈페이지 서버 다운   \n",
              "4      [특징주] 디아이티, SK하이닉스 '레이저 어닐링' 장비 공급에 강세   \n",
              "5     [e비즈솔루션] (주)디아이티 '맨피스'..수천명 인사 관리 '한번에'   \n",
              "6                       `이달의 기능인` 라인인포 서암석 대표   \n",
              "7                한국산업인력공단 전북지사, 어린이 기능체험캠프 개최   \n",
              "8                 ˝신기술에 즉각 반응이 오니 일할 맛이 나더군요˝   \n",
              "9            라츠알엔피, 키토산으로 세균 99.9% 잡은 기능성 생리대   \n",
              "10   [상생협력]뛰어난 항균·탈취 기능의 ‘사임당’ 생리대 개발한 ㈜라츠알엔피   \n",
              "11                          사법개혁안 새틀짜기 이번주 착수   \n",
              "12           \"위기의 시대 `리스크 관리·디지털·글로벌`로 새틀 짜자\"   \n",
              "13               새틀링크스, GE-샛콤으로 사명 변경하고 CI 개편   \n",
              "14                텔레노어 새틀라잇, 새로운 광대역통신 서비스 개발   \n",
              "15              미중 양대강국 관계 새틀 만들까, 대립 격화될까 관심   \n",
              "16                  6070 현금확보, 부동산·연금자산 새틀 짜자   \n",
              "17      세계 최초로 필터자동세척 공기청정기 개발, 국내외 판로 개척에 나서   \n",
              "18               韓발명품, 실리콘밸리 발명페스티벌서 44개 상 수상   \n",
              "\n",
              "                                                 Text  \n",
              "0   < 이 기사는 기획 PR 기사 입니다. >\\n\\n전세계를 아우르는 인터넷장비의 '글...  \n",
              "1   박근혜 대통령의 정상외교 특징은 경제사절단에 중소기업을 대거 포함시키고, 이들의 해...  \n",
              "2   디아이티가 삼성디스플레이와 68억원 상당의 공급계약을 체결하면서 장 초반 강세다.\\...  \n",
              "3   디아이티가 K배터리 전략 수혜주로 부각되면서 상승세다. \\n\\n9시 8분 디아이티는...  \n",
              "4   디아이티의 주가가 강세다.\\n\\n14일 오후 2시2분 기준 디아이티는 전 거래일 대...  \n",
              "5   \"수천명의 인사관리를 단 한번에 해결\"\\n\\n대한페인트의 정보기술 자회사인 (주)디...  \n",
              "6   - \"신기술에 즉각 반응이 오니 일할 맛이 나더군요\"\\n\\n[이데일리 정태선 기자]...  \n",
              "7   완주군 상관초등학교 5, 6학년 98명 대상\\n\\n(전주=뉴스1) 박상일 기자 = ...  \n",
              "8    고용노동부(장관 박재완)와 한국산업인력공단(이사장 유재섭)은 2월 ｢이달의 기능한...  \n",
              "9   이달의 으뜸중기제품 - 프리미엄 생리대 '신사임당'\\n\\n항균·탈취 기능 국가 인증...  \n",
              "10  [머니투데이 정명근 에디터] [중국·동남아 진출 본격화]\\n\\n㈜라츠알앤피(대표 강...  \n",
              "11  [내일신문]\\n\\n국회 사개특위 6인 소위안 사실상 무산\\n\\n법원·검찰·변호사 소...  \n",
              "12  은행권 잇단 하반기 경영전략회의\\n\\n신한·우리銀 오늘 업무추진 점검\\n\\n우리금융...  \n",
              "13  【슈투트가르트(독일)=BW/뉴시스】\\n\\n새틀링크스(Satlynx)가 GE-샛콤(G...  \n",
              "14  【오슬로(노르웨이)·록빌(미 메릴랜드 주)=BW/뉴시스】\\n\\n-- 오션롬, 해상에...  \n",
              "15  시진핑 방미 오늘 시애틀 도착\\n\\n\\n시진핑(習近平) 중국 국가주석이 22일 미국...  \n",
              "16  100세 시대를 맞아 노후가 길어졌다. 장수가 재앙이 아닌 축복이 되려면 하루라도 ...  \n",
              "17  [스포츠서울 신재유기자] 미세먼지가 인체 건강을 위협하면서 공기청정기 시장 규모가 ...  \n",
              "18  【대전=김원준 기자】한국발명진흥회는 지난 2~4일까지 미국 샌프란시스코 산타 클라라...  "
            ],
            "text/html": [
              "\n",
              "  <div id=\"df-f915ec49-fedc-4ad9-810b-b37c2e62cf7d\">\n",
              "    <div class=\"colab-df-container\">\n",
              "      <div>\n",
              "<style scoped>\n",
              "    .dataframe tbody tr th:only-of-type {\n",
              "        vertical-align: middle;\n",
              "    }\n",
              "\n",
              "    .dataframe tbody tr th {\n",
              "        vertical-align: top;\n",
              "    }\n",
              "\n",
              "    .dataframe thead th {\n",
              "        text-align: right;\n",
              "    }\n",
              "</style>\n",
              "<table border=\"1\" class=\"dataframe\">\n",
              "  <thead>\n",
              "    <tr style=\"text-align: right;\">\n",
              "      <th></th>\n",
              "      <th>Summary</th>\n",
              "      <th>Text</th>\n",
              "    </tr>\n",
              "  </thead>\n",
              "  <tbody>\n",
              "    <tr>\n",
              "      <th>0</th>\n",
              "      <td>[스폰서 섹션] (주)넷비젼텔레콤..인터넷장비 기술 '첨단화' 주도</td>\n",
              "      <td>&lt; 이 기사는 기획 PR 기사 입니다. &gt;\\n\\n전세계를 아우르는 인터넷장비의 '글...</td>\n",
              "    </tr>\n",
              "    <tr>\n",
              "      <th>1</th>\n",
              "      <td>“중동 순방 동행, 해외 진출 물꼬가 확 터졌습니다”</td>\n",
              "      <td>박근혜 대통령의 정상외교 특징은 경제사절단에 중소기업을 대거 포함시키고, 이들의 해...</td>\n",
              "    </tr>\n",
              "    <tr>\n",
              "      <th>2</th>\n",
              "      <td>[특징주] 디아이티, 삼성디스플레이와 68억 상당 공급계약에 강세</td>\n",
              "      <td>디아이티가 삼성디스플레이와 68억원 상당의 공급계약을 체결하면서 장 초반 강세다.\\...</td>\n",
              "    </tr>\n",
              "    <tr>\n",
              "      <th>3</th>\n",
              "      <td>[특징주] 디아이티, K배터리 수혜주 부각에 19%↑… 홈페이지 서버 다운</td>\n",
              "      <td>디아이티가 K배터리 전략 수혜주로 부각되면서 상승세다. \\n\\n9시 8분 디아이티는...</td>\n",
              "    </tr>\n",
              "    <tr>\n",
              "      <th>4</th>\n",
              "      <td>[특징주] 디아이티, SK하이닉스 '레이저 어닐링' 장비 공급에 강세</td>\n",
              "      <td>디아이티의 주가가 강세다.\\n\\n14일 오후 2시2분 기준 디아이티는 전 거래일 대...</td>\n",
              "    </tr>\n",
              "    <tr>\n",
              "      <th>5</th>\n",
              "      <td>[e비즈솔루션] (주)디아이티 '맨피스'..수천명 인사 관리 '한번에'</td>\n",
              "      <td>\"수천명의 인사관리를 단 한번에 해결\"\\n\\n대한페인트의 정보기술 자회사인 (주)디...</td>\n",
              "    </tr>\n",
              "    <tr>\n",
              "      <th>6</th>\n",
              "      <td>`이달의 기능인` 라인인포 서암석 대표</td>\n",
              "      <td>- \"신기술에 즉각 반응이 오니 일할 맛이 나더군요\"\\n\\n[이데일리 정태선 기자]...</td>\n",
              "    </tr>\n",
              "    <tr>\n",
              "      <th>7</th>\n",
              "      <td>한국산업인력공단 전북지사, 어린이 기능체험캠프 개최</td>\n",
              "      <td>완주군 상관초등학교 5, 6학년 98명 대상\\n\\n(전주=뉴스1) 박상일 기자 = ...</td>\n",
              "    </tr>\n",
              "    <tr>\n",
              "      <th>8</th>\n",
              "      <td>˝신기술에 즉각 반응이 오니 일할 맛이 나더군요˝</td>\n",
              "      <td>고용노동부(장관 박재완)와 한국산업인력공단(이사장 유재섭)은 2월 ｢이달의 기능한...</td>\n",
              "    </tr>\n",
              "    <tr>\n",
              "      <th>9</th>\n",
              "      <td>라츠알엔피, 키토산으로 세균 99.9% 잡은 기능성 생리대</td>\n",
              "      <td>이달의 으뜸중기제품 - 프리미엄 생리대 '신사임당'\\n\\n항균·탈취 기능 국가 인증...</td>\n",
              "    </tr>\n",
              "    <tr>\n",
              "      <th>10</th>\n",
              "      <td>[상생협력]뛰어난 항균·탈취 기능의 ‘사임당’ 생리대 개발한 ㈜라츠알엔피</td>\n",
              "      <td>[머니투데이 정명근 에디터] [중국·동남아 진출 본격화]\\n\\n㈜라츠알앤피(대표 강...</td>\n",
              "    </tr>\n",
              "    <tr>\n",
              "      <th>11</th>\n",
              "      <td>사법개혁안 새틀짜기 이번주 착수</td>\n",
              "      <td>[내일신문]\\n\\n국회 사개특위 6인 소위안 사실상 무산\\n\\n법원·검찰·변호사 소...</td>\n",
              "    </tr>\n",
              "    <tr>\n",
              "      <th>12</th>\n",
              "      <td>\"위기의 시대 `리스크 관리·디지털·글로벌`로 새틀 짜자\"</td>\n",
              "      <td>은행권 잇단 하반기 경영전략회의\\n\\n신한·우리銀 오늘 업무추진 점검\\n\\n우리금융...</td>\n",
              "    </tr>\n",
              "    <tr>\n",
              "      <th>13</th>\n",
              "      <td>새틀링크스, GE-샛콤으로 사명 변경하고 CI 개편</td>\n",
              "      <td>【슈투트가르트(독일)=BW/뉴시스】\\n\\n새틀링크스(Satlynx)가 GE-샛콤(G...</td>\n",
              "    </tr>\n",
              "    <tr>\n",
              "      <th>14</th>\n",
              "      <td>텔레노어 새틀라잇, 새로운 광대역통신 서비스 개발</td>\n",
              "      <td>【오슬로(노르웨이)·록빌(미 메릴랜드 주)=BW/뉴시스】\\n\\n-- 오션롬, 해상에...</td>\n",
              "    </tr>\n",
              "    <tr>\n",
              "      <th>15</th>\n",
              "      <td>미중 양대강국 관계 새틀 만들까, 대립 격화될까 관심</td>\n",
              "      <td>시진핑 방미 오늘 시애틀 도착\\n\\n\\n시진핑(習近平) 중국 국가주석이 22일 미국...</td>\n",
              "    </tr>\n",
              "    <tr>\n",
              "      <th>16</th>\n",
              "      <td>6070 현금확보, 부동산·연금자산 새틀 짜자</td>\n",
              "      <td>100세 시대를 맞아 노후가 길어졌다. 장수가 재앙이 아닌 축복이 되려면 하루라도 ...</td>\n",
              "    </tr>\n",
              "    <tr>\n",
              "      <th>17</th>\n",
              "      <td>세계 최초로 필터자동세척 공기청정기 개발, 국내외 판로 개척에 나서</td>\n",
              "      <td>[스포츠서울 신재유기자] 미세먼지가 인체 건강을 위협하면서 공기청정기 시장 규모가 ...</td>\n",
              "    </tr>\n",
              "    <tr>\n",
              "      <th>18</th>\n",
              "      <td>韓발명품, 실리콘밸리 발명페스티벌서 44개 상 수상</td>\n",
              "      <td>【대전=김원준 기자】한국발명진흥회는 지난 2~4일까지 미국 샌프란시스코 산타 클라라...</td>\n",
              "    </tr>\n",
              "  </tbody>\n",
              "</table>\n",
              "</div>\n",
              "      <button class=\"colab-df-convert\" onclick=\"convertToInteractive('df-f915ec49-fedc-4ad9-810b-b37c2e62cf7d')\"\n",
              "              title=\"Convert this dataframe to an interactive table.\"\n",
              "              style=\"display:none;\">\n",
              "        \n",
              "  <svg xmlns=\"http://www.w3.org/2000/svg\" height=\"24px\"viewBox=\"0 0 24 24\"\n",
              "       width=\"24px\">\n",
              "    <path d=\"M0 0h24v24H0V0z\" fill=\"none\"/>\n",
              "    <path d=\"M18.56 5.44l.94 2.06.94-2.06 2.06-.94-2.06-.94-.94-2.06-.94 2.06-2.06.94zm-11 1L8.5 8.5l.94-2.06 2.06-.94-2.06-.94L8.5 2.5l-.94 2.06-2.06.94zm10 10l.94 2.06.94-2.06 2.06-.94-2.06-.94-.94-2.06-.94 2.06-2.06.94z\"/><path d=\"M17.41 7.96l-1.37-1.37c-.4-.4-.92-.59-1.43-.59-.52 0-1.04.2-1.43.59L10.3 9.45l-7.72 7.72c-.78.78-.78 2.05 0 2.83L4 21.41c.39.39.9.59 1.41.59.51 0 1.02-.2 1.41-.59l7.78-7.78 2.81-2.81c.8-.78.8-2.07 0-2.86zM5.41 20L4 18.59l7.72-7.72 1.47 1.35L5.41 20z\"/>\n",
              "  </svg>\n",
              "      </button>\n",
              "      \n",
              "  <style>\n",
              "    .colab-df-container {\n",
              "      display:flex;\n",
              "      flex-wrap:wrap;\n",
              "      gap: 12px;\n",
              "    }\n",
              "\n",
              "    .colab-df-convert {\n",
              "      background-color: #E8F0FE;\n",
              "      border: none;\n",
              "      border-radius: 50%;\n",
              "      cursor: pointer;\n",
              "      display: none;\n",
              "      fill: #1967D2;\n",
              "      height: 32px;\n",
              "      padding: 0 0 0 0;\n",
              "      width: 32px;\n",
              "    }\n",
              "\n",
              "    .colab-df-convert:hover {\n",
              "      background-color: #E2EBFA;\n",
              "      box-shadow: 0px 1px 2px rgba(60, 64, 67, 0.3), 0px 1px 3px 1px rgba(60, 64, 67, 0.15);\n",
              "      fill: #174EA6;\n",
              "    }\n",
              "\n",
              "    [theme=dark] .colab-df-convert {\n",
              "      background-color: #3B4455;\n",
              "      fill: #D2E3FC;\n",
              "    }\n",
              "\n",
              "    [theme=dark] .colab-df-convert:hover {\n",
              "      background-color: #434B5C;\n",
              "      box-shadow: 0px 1px 3px 1px rgba(0, 0, 0, 0.15);\n",
              "      filter: drop-shadow(0px 1px 2px rgba(0, 0, 0, 0.3));\n",
              "      fill: #FFFFFF;\n",
              "    }\n",
              "  </style>\n",
              "\n",
              "      <script>\n",
              "        const buttonEl =\n",
              "          document.querySelector('#df-f915ec49-fedc-4ad9-810b-b37c2e62cf7d button.colab-df-convert');\n",
              "        buttonEl.style.display =\n",
              "          google.colab.kernel.accessAllowed ? 'block' : 'none';\n",
              "\n",
              "        async function convertToInteractive(key) {\n",
              "          const element = document.querySelector('#df-f915ec49-fedc-4ad9-810b-b37c2e62cf7d');\n",
              "          const dataTable =\n",
              "            await google.colab.kernel.invokeFunction('convertToInteractive',\n",
              "                                                     [key], {});\n",
              "          if (!dataTable) return;\n",
              "\n",
              "          const docLinkHtml = 'Like what you see? Visit the ' +\n",
              "            '<a target=\"_blank\" href=https://colab.research.google.com/notebooks/data_table.ipynb>data table notebook</a>'\n",
              "            + ' to learn more about interactive tables.';\n",
              "          element.innerHTML = '';\n",
              "          dataTable['output_type'] = 'display_data';\n",
              "          await google.colab.output.renderOutput(dataTable, element);\n",
              "          const docLink = document.createElement('div');\n",
              "          docLink.innerHTML = docLinkHtml;\n",
              "          element.appendChild(docLink);\n",
              "        }\n",
              "      </script>\n",
              "    </div>\n",
              "  </div>\n",
              "  "
            ]
          },
          "metadata": {},
          "execution_count": 95
        }
      ]
    },
    {
      "cell_type": "markdown",
      "source": [
        "# 데이터 정제"
      ],
      "metadata": {
        "id": "jEIJZms68H1Q"
      }
    },
    {
      "cell_type": "code",
      "source": [
        "stop_words = '기자 에디터 아 휴 아이구 아이쿠 아이고 어 나 우리 저희 따라 의해 을 를 에 의 가 으로 로 에게 뿐이다 의거하여 근거하여 입각하여 기준으로 예하면 예를 들면 예를 들자면 저 소인 소생 저희 지말고 하지마 하지마라 다른 물론 또한 그리고 비길수 없다 해서는 안된다 뿐만 아니라 만이 아니다 만은 아니다 막론하고 관계없이 그치지 않다 그러나 그런데 하지만 든간에 논하지 않다 따지지 않다 설사 비록 더라도 아니면 만 못하다 하는 편이 낫다 불문하고 향하여 향해서 향하다 쪽으로 틈타 이용하여 타다 오르다 제외하고 이 외에 이 밖에 하여야 비로소 한다면 몰라도 외에도 이곳 여기 부터 기점으로 따라서 할 생각이다 하려고하다 이리하여 그리하여 그렇게 함으로써 하지만 일때 할때 앞에서 중에서 보는데서 으로써 로써 까지 해야한다 일것이다 반드시 할줄알다 할수있다 할수있어 임에 틀림없다 한다면 등 등등 제 겨우 단지 다만 할뿐 딩동 댕그 대해서 대하여 대하면 훨씬 얼마나 얼마만큼 얼마큼 남짓 여 얼마간 약간 다소 좀 조금 다수 몇 얼마 지만 하물며 또한 그러나 그렇지만 하지만 이외에도 대해 말하자면 뿐이다 다음에 반대로 반대로 말하자면 이와 반대로 바꾸어서 말하면 바꾸어서 한다면 만약 그렇지않으면 까악 툭 딱 삐걱거리다 보드득 비걱거리다 꽈당 응당 해야한다 에 가서 각 각각 여러분 각종 각자 제각기 하도록하다 와 과 그러므로 그래서 고로 한 까닭에 하기 때문에 거니와 이지만 대하여 관하여 관한 과연 실로 아니나다를가 생각한대로 진짜로 한적이있다 하곤하였다 하 하하 허허 아하 거바 와 오 왜 어째서 무엇때문에 어찌 하겠는가 무슨 어디 어느곳 더군다나 하물며 더욱이는 어느때 언제 야 이봐 어이 여보시오 흐흐 흥 휴 헉헉 헐떡헐떡 영차 여차 어기여차 끙끙 아야 앗 아야 콸콸 졸졸 좍좍 뚝뚝 주룩주룩 솨 우르르 그래도 또 그리고 바꾸어말하면 바꾸어말하자면 혹은 혹시 답다 및 그에 따르는 때가 되어 즉 지든지 설령 가령 하더라도 할지라도 일지라도 지든지 몇 거의 하마터면 인젠 이젠 된바에야 된이상 만큼 어찌됏든 그위에 게다가 점에서 보아 비추어 보아 고려하면 하게될것이다 일것이다 비교적 좀 보다더 비하면 시키다 하게하다 할만하다 의해서 연이서 이어서 잇따라 뒤따라 뒤이어 결국 의지하여 기대여 통하여 자마자 더욱더 불구하고 얼마든지 마음대로 주저하지 않고 곧 즉시 바로 당장 하자마자 밖에 안된다 하면된다 그래 그렇지 요컨대 다시 말하자면 바꿔 말하면 즉 구체적으로 말하자면 시작하여 시초에 이상 허 헉 허걱 바와같이 해도좋다 해도된다 게다가 더구나 하물며 와르르 팍 퍽 펄렁 동안 이래 하고있었다 이었다 에서 로부터 까지 예하면 했어요 해요 함께 같이 더불어 마저 마저도 양자 모두 습니다 가까스로 하려고하다 즈음하여 다른 다른 방면으로 해봐요 습니까 했어요 말할것도 없고 무릎쓰고 개의치않고 하는것만 못하다 하는것이 낫다 매 매번 들 모 어느것 어느 로써 갖고말하자면 어디 어느쪽 어느것 어느해 어느 년도 라 해도 언젠가 어떤것 어느것 저기 저쪽 저것 그때 그럼 그러면 요만한걸 그래 그때 저것만큼 그저 이르기까지 할 줄 안다 할 힘이 있다 너 너희 당신 어찌 설마 차라리 할지언정 할지라도 할망정 할지언정 구토하다 게우다 토하다 메쓰겁다 옆사람 퉤 쳇 의거하여 근거하여 의해 따라 힘입어 그 다음 버금 두번째로 기타 첫번째로 나머지는 그중에서 견지에서 형식으로 쓰여 입장에서 위해서 단지 의해되다 하도록시키다 뿐만아니라 반대로 전후 전자 앞의것 잠시 잠깐 하면서 그렇지만 다음에 그러한즉 그런즉 남들 아무거나 어찌하든지 같다 비슷하다 예컨대 이럴정도로 어떻게 만약 만일 위에서 서술한바와같이 인 듯하다 하지 않는다면 만약에 무엇 무슨 어느 어떤 아래윗 조차 한데 그럼에도 불구하고 여전히 심지어 까지도 조차도 하지 않도록 않기 위하여 때 시각 무렵 시간 동안 어때 어떠한 하여금 네 예 우선 누구 누가 알겠는가 아무도 줄은모른다 줄은 몰랏다 하는 김에 겸사겸사 하는바 그런 까닭에 한 이유는 그러니 그러니까 때문에 그 너희 그들 너희들 타인 것 것들 너 위하여 공동으로 동시에 하기 위하여 어찌하여 무엇때문에 붕붕 윙윙 나 우리 엉엉 휘익 윙윙 오호 아하 어쨋든 만 못하다 하기보다는 차라리 하는 편이 낫다 흐흐 놀라다 상대적으로 말하자면 마치 아니라면 쉿 그렇지 않으면 그렇지 않다면 안 그러면 아니었다면 하든지 아니면 이라면 좋아 알았어 하는것도 그만이다 어쩔수 없다 하나 일 일반적으로 일단 한켠으로는 오자마자 이렇게되면 이와같다면 전부 한마디 한항목 근거로 하기에 아울러 하지 않도록 않기 위해서 이르기까지 이 되다 로 인하여 까닭으로 이유만으로 이로 인하여 그래서 이 때문에 그러므로 그런 까닭에 알 수 있다 결론을 낼 수 있다 으로 인하여 있다 어떤것 관계가 있다 관련이 있다 연관되다 어떤것들 에 대해 이리하여 그리하여 여부 하기보다는 하느니 하면 할수록 운운 이러이러하다 하구나 하도다 다시말하면 다음으로 에 있다 에 달려 있다 우리 우리들 오히려 하기는한데 어떻게 어떻해 어찌됏어 어때 어째서 본대로 자 이 이쪽 여기 이것 이번 이렇게말하자면 이런 이러한 이와 같은 요만큼 요만한 것 얼마 안 되는 것 이만큼 이 정도의 이렇게 많은 것 이와 같다 이때 이렇구나 것과 같이 끼익 삐걱 따위 와 같은 사람들 부류의 사람들 왜냐하면 중의하나 오직 오로지 에 한하다 하기만 하면 도착하다 까지 미치다 도달하다 정도에 이르다 할 지경이다 결과에 이르다 관해서는 여러분 하고 있다 한 후 혼자 자기 자기집 자신 우에 종합한것과같이 총적으로 보면 총적으로 말하면 총적으로 대로 하다 으로서 참 그만이다 할 따름이다 쿵 탕탕 쾅쾅 둥둥 봐 봐라 아이야 아니 와아 응 아이 참나 년 월 일 령 영 일 이 삼 사 오 육 륙 칠 팔 구 이천육 이천칠 이천팔 이천구 하나 둘 셋 넷 다섯 여섯 일곱 여덟 아홉 령 영 이 있 하 것 들 그 되 수 이 보 않 없 나 사람 주 아니 등 같 우리 때 년 가 한 지 대하 오 말 일 그렇 위하 때문 그것 두 말하 알 그러나 받 못하 일 그런 또 문제 더 사회 많 그리고 좋 크 따르 중 나오 가지 씨 시키 만들 지금 생각하 그러 속 하나 집 살 모르 적 월 데 자신 안 어떤 내 내 경우 명 생각 시간 그녀 다시 이런 앞 보이 번 나 다른 어떻 여자 개 전 들 사실 이렇 점 싶 말 정도 좀 원 잘 통하 놓'"
      ],
      "metadata": {
        "id": "IKM34ZNC949A"
      },
      "execution_count": 96,
      "outputs": []
    },
    {
      "cell_type": "markdown",
      "source": [
        "https://mr-doosun.tistory.com/24\n",
        "\n",
        "이 불용어 리스트는 이 링크를 참고하여 만들어진 리스트입니다"
      ],
      "metadata": {
        "id": "pS8xgVf2-ie5"
      }
    },
    {
      "cell_type": "code",
      "source": [
        "from bs4 import BeautifulSoup"
      ],
      "metadata": {
        "id": "fj-2v2L7EYR2"
      },
      "execution_count": 97,
      "outputs": []
    },
    {
      "cell_type": "code",
      "source": [
        "import re"
      ],
      "metadata": {
        "id": "8QlACfgdEtU5"
      },
      "execution_count": 98,
      "outputs": []
    },
    {
      "cell_type": "code",
      "source": [
        "# 전처리 함수 설계\n",
        "def preprocess_sentence(sentence, remove_stopwords=True):\n",
        "  sentence_index = sentence.find('Copyright')\n",
        "  if sentence_index == -1: pass\n",
        "  else: sentence = sentence[:sentence_index]\n",
        "\n",
        "\n",
        "  sentence = re.sub(r'\\[[^)]*\\]', '', sentence)\n",
        "  sentence = re.sub(r'\\【[^)]*\\】', '', sentence)\n",
        "  sentence = re.sub(r'\\<[^)]*\\>', '', sentence)\n",
        "  sentence = re.sub('\\n', '', sentence)\n",
        "  sentence = re.sub('\"','', sentence)\n",
        "  sentence = re.sub(\"'\",\"\", sentence)\n",
        "  sentence = re.sub(\"[^가-힣a-zA-Z0-9]\", \" \", sentence)\n",
        "\n",
        "  if remove_stopwords:\n",
        "    tokens = ' '.join(word for word in sentence.split() if not word in stop_words if len(word) > 1)\n",
        "  else:\n",
        "    tokens = ' '.join(word for word in sentence.split() if len(word) > 1)\n",
        "\n",
        "  return tokens"
      ],
      "metadata": {
        "id": "_QjRs04U-j3j"
      },
      "execution_count": 104,
      "outputs": []
    },
    {
      "cell_type": "code",
      "source": [
        "clean_text = []\n",
        "for s in data['Text']:\n",
        "  clean_text.append(preprocess_sentence(s))\n",
        "clean_text[18]"
      ],
      "metadata": {
        "colab": {
          "base_uri": "https://localhost:8080/",
          "height": 236
        },
        "id": "dM1lKpLvFZc5",
        "outputId": "ccb86408-8c41-404e-bc4c-5e8af0d539c5"
      },
      "execution_count": 105,
      "outputs": [
        {
          "output_type": "execute_result",
          "data": {
            "text/plain": [
              "'한국발명진흥회는 지난 4일까지 미국 샌프란시스코 산타 클라라 컨벤션센터 Santa Clara Convention Center 열린 2018 실리콘밸리 국제발명페스티벌 우리나라 발명가들이 대상 금상 은상 동상 특별상 44점의 상을 수상했다고 7일 밝혔다 17개국에서 174건의 발명품이 출품된 전시회에서 우리나라는 대상 2점 금상 22점 은상 5점 동상 5점 특별상 10점을 수상했다 2018 실리콘밸리 국제발명페스티벌은 지난해까지 열렸던 미국 피츠버그국제발명전시회가 올해부터 개최되지 않아 한국발명진흥회가 국제발명단체총연맹 IFIA 협력해 개최했다 해외에서 발명 특허 전시회를 개최하는 것은 국내 공공기관 한국발명진흥회가 처음이다 특히 실리콘밸리 국제발명페스티벌은 올해 미국에서 열리는 최대 규모의 국제발명전시회인 세계 발명인뿐만이 일반인들의 주목을 끌었다 김승연 파이어 인더스트리 대표는 자동으로 유수를 제어하는 스프링클러 배관용 분기티 이를 포함하는 스프링클러 배관시스템 대상을 수상했다 보호계전기 시험장비 운용 장치 방법 출품한 한국전력공사는 대상 세계지식재산기구 WIPO 상을 수상하며 선진 기술을 세계에 알렸다 아마존의 마케팅 매니저 업계 바이어들의 방문 사전 비즈니스 회의 매칭 등의 프로그램 운영을 통해 참가자들의 실질적인 성과를 지원했다 비강확장기 코골이 방지기구 출품한 드림에어 정진구 대표는 다수의 투자자와 현지 유통회사와의 업무회의를 통해 미국 시장 진출의 토대를 마련할 전했다 금상에는 드론을 이용한 저탄량 측정시스템 한국중부발전 식물 추출물을 함유하는 숙취해소용 바이오 뉴트리젠 블루투스 스피커 기능을 구비한 공기청정기 디케이 주식회사 22점이 선정됐다 은상에는 다용도 뚜껑을 갖는 다용도 물통 달항 에어필터 자동세척 장치가 구비된 공기청정기 씨에스이엔엘 5점이 선정됐다 동상에는 워트제트에 추진되는 모듈타입의 서퍼보드 제트웨이크 광원 모듈 체결 구조 원일이엔지 5점이 선정됐다 이준석 한국발명진흥회 상근부회장은 페스티벌은 혁신의 중심인 실리콘밸리에서 한국 특허기술의 우수성과 시장성을 인정받는 계기가 됐다 앞으로도 국제 협력 다각화를 통해 국내 우수 특허기술의 해외 진출 사업화를 지원하는 글로벌 지식재산 전문기관으로서 역할을 다할 이라고 말했다 kwj5797 fnnews com 김원준 세상의 모든 때리는 이야기 fn파스 속보이는 연예뉴스 fn스타 저작권자 파이낸셜뉴스 무단 전재 재배포 금지김원준 kwj5797 fnnews com 프로필구독김원준 기자구독자 624응원수 650확인에 확인을 거듭하겠습니다코레일 승무원 KTX서 쓰러진 승객 심폐소생술로 구해코레일 고속 궤도이탈 사고 대체교통비 지급'"
            ],
            "application/vnd.google.colaboratory.intrinsic+json": {
              "type": "string"
            }
          },
          "metadata": {},
          "execution_count": 105
        }
      ]
    },
    {
      "cell_type": "code",
      "source": [
        "data['Text'][18]"
      ],
      "metadata": {
        "colab": {
          "base_uri": "https://localhost:8080/",
          "height": 327
        },
        "id": "x3JctHnvMEZS",
        "outputId": "080784f4-29f5-43f0-f4b2-22ad943b2007"
      },
      "execution_count": 106,
      "outputs": [
        {
          "output_type": "execute_result",
          "data": {
            "text/plain": [
              "'【대전=김원준 기자】한국발명진흥회는 지난 2~4일까지 미국 샌프란시스코 산타 클라라 컨벤션센터(Santa Clara Convention Center)에서 열린 ‘2018 실리콘밸리 국제발명페스티벌’에서 우리나라 발명가들이 대상, 금상, 은상, 동상 및 특별상 등 모두 44점의 상을 수상했다고 7일 밝혔다.\\n\\n모두 17개국에서 174건의 발명품이 출품된 이번 전시회에서 우리나라는 대상 2점, 금상 22점, 은상 5점, 동상 5점, 특별상 10점을 수상했다.\\n\\n2018 실리콘밸리 국제발명페스티벌은 지난해까지 열렸던 미국 피츠버그국제발명전시회가 올해부터 더 이상 개최되지 않아 한국발명진흥회가 국제발명단체총연맹(IFIA)과 협력해 개최했다.\\n\\n해외에서 발명·특허 전시회를 개최하는 것은 국내 공공기관 중 한국발명진흥회가 처음이다. 특히 실리콘밸리 국제발명페스티벌은 올해 미국에서 열리는 최대 규모의 국제발명전시회인 만큼 세계 발명인뿐만이 아니라 일반인들의 주목을 끌었다.\\n\\n김승연 파이어 인더스트리 대표는 ‘자동으로 유수를 제어하는 스프링클러 배관용 분기티 및 이를 포함하는 스프링클러 배관시스템’으로 대상을 수상했다. 또한 ‘보호계전기 시험장비 운용 장치 및 방법’을 출품한 한국전력공사는 대상 및 세계지식재산기구(WIPO)상을 수상하며 선진 기술을 세계에 알렸다.\\n\\n이외에도 아마존의 마케팅 매니저 등 많은 업계 바이어들의 방문 및 사전 비즈니스 회의 매칭 등의 프로그램 운영을 통해 참가자들의 실질적인 성과를 지원했다. 비강확장기(코골이 방지기구)를 출품한 ㈜드림에어 정진구 대표는 \"다수의 투자자와 현지 유통회사와의 업무회의를 통해 미국 시장 진출의 토대를 마련할 수 있었다”고 전했다.\\n\\n금상에는 △드론을 이용한 저탄량 측정시스템(한국중부발전) △식물 추출물을 함유하는 숙취해소용(㈜바이오 뉴트리젠) △블루투스 스피커 기능을 구비한 공기청정기(디케이 주식회사) 등 22점이 선정됐다.\\n\\n은상에는 △다용도 뚜껑을 갖는 다용도 물통(달항) △에어필터 자동세척 장치가 구비된 공기청정기((주)씨에스이엔엘) 등 5점이 선정됐다.\\n\\n동상에는 △워트제트에 의해 추진되는 모듈타입의 서퍼보드(㈜제트웨이크) △광원 모듈 체결 구조(원일이엔지) 등 5점이 선정됐다.\\n\\n이준석 한국발명진흥회 상근부회장은 “이번 페스티벌은 혁신의 중심인 실리콘밸리에서 한국 특허기술의 우수성과 시장성을 인정받는 계기가 됐다”며 “앞으로도 국제 협력 다각화를 통해 국내 우수 특허기술의 해외 진출 및 사업화를 지원하는 글로벌 지식재산 전문기관으로서 역할을 다할 것”이라고 말했다.\\n\\nkwj5797@fnnews.com 김원준 기자\\n\\n▶ 세상의 모든 골 때리는 이야기 \\'fn파스\\'\\n▶ 속보이는 연예뉴스 fn스타\\n\\n※ 저작권자 ⓒ 파이낸셜뉴스. 무단 전재-재배포 금지\\n김원준(kwj5797@fnnews.com)\\n기자 프로필\\n구독\\n김원준 기자\\n구독자 624\\n응원수 650\\n확인에 확인을 거듭하겠습니다\\n코레일 승무원, KTX서 쓰러진 승객 심폐소생술로 구해\\n코레일, 고속鐵 궤도이탈 사고 ‘대체교통비’ 지급\\n\\n\\nCopyright ⓒ 파이낸셜뉴스. All rights reserved. 무단 전재 및 재배포 금지.\\n이 기사는 언론사에서 사회 섹션으로 분류했습니다.\\n구독\\n메인에서 바로 보는 언론사 편집 뉴스 지금 바로 구독해보세요!\\n주요뉴스\\n해당 언론사에서 선정하며 언론사 페이지(아웃링크)로 이동해 볼 수 있습니다.\\n박근혜 탄핵 기각시 비상계엄 선포, 기무사 문건 살펴보니..\\n강진 여고생 살인 범인, 바리캉으로 머리 삭발한 이유\\n유시민 하차하고 노회찬 합류한 \\'썰전\\', 시청률이..\\n文대통령 지지율 71%·민주당 51%, 한국당은?\\n\"나와 반려견 중 선택\" 아내 최후통첩에 남편 결단\\n좋아요\\n0\\n훈훈해요\\n0\\n슬퍼요\\n0\\n화나요\\n0\\n후속기사원해요\\n0\\n이 기사를 추천합니다\\n안내\\n\\n파이낸셜뉴스 언론사홈 바로가기'"
            ],
            "application/vnd.google.colaboratory.intrinsic+json": {
              "type": "string"
            }
          },
          "metadata": {},
          "execution_count": 106
        }
      ]
    },
    {
      "cell_type": "code",
      "source": [
        ""
      ],
      "metadata": {
        "id": "vbQtjdaqBlXM"
      },
      "execution_count": null,
      "outputs": []
    }
  ]
}